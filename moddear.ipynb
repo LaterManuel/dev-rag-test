{
 "cells": [
  {
   "cell_type": "code",
   "execution_count": null,
   "id": "eac49043",
   "metadata": {},
   "outputs": [
    {
     "name": "stdout",
     "output_type": "stream",
     "text": [
      "Real example transformation:\n",
      "Original: \"\"\"El estudio realizado tiene como objetivo disminuir las mermas con el fin de aprovechar mejor la materia prima en los procesos de Confección Tejido Plano y, Tejido punto y Confección en una empresa textil alpaquera.\"\"\"\n",
      "Cleaned: El estudio realizado tiene como objetivo disminuir las mermas con el fin de aprovechar mejor la materia prima en los procesos de Confección Tejido Plano y, Tejido punto y Confección en una empresa textil alpaquera.\n",
      "✅ Processed file saved at: data/dataset3.csv\n"
     ]
    }
   ],
   "source": [
    "import pandas as pd\n",
    "import re\n",
    "\n",
    "def clean_abstract_column(input_path: str, output_path: str):\n",
    "    \"\"\"\n",
    "    Process CSV file to clean the abstract column by:\n",
    "    1. Removing all quotes (double, single, and typographic including triple quotes)\n",
    "    2. Replacing semicolons with commas\n",
    "    3. Adding double quotes at the beginning and end of the text\n",
    "    \"\"\"\n",
    "    df = pd.read_csv(input_path)\n",
    "    \n",
    "    if 'abstract' in df.columns:\n",
    "        def clean_abstract(text):\n",
    "            # Handle missing values\n",
    "            if pd.isna(text):\n",
    "                return '\"\"'\n",
    "            \n",
    "            # Convert to string\n",
    "            text = str(text)\n",
    "            \n",
    "            # Step 1: Remove all quotes (double, single, typographic, and triple quotes)\n",
    "            text = re.sub(r'[\\'\\\"\"]', '', text)\n",
    "            \n",
    "            # Step 2: Replace semicolons with commas\n",
    "            text = text.replace(';', ',')\n",
    "            \n",
    "            # Step 3: Wrap with double quotes\n",
    "            return f'{text.strip()}'\n",
    "        \n",
    "        # Apply to the column\n",
    "        df['abstract'] = df['abstract'].apply(clean_abstract)\n",
    "        \n",
    "        # Print real example with triple quotes\n",
    "        print(\"Real example transformation:\")\n",
    "        original = '\"\"\"El estudio realizado tiene como objetivo disminuir las mermas con el fin de aprovechar mejor la materia prima en los procesos de Confección Tejido Plano y, Tejido punto y Confección en una empresa textil alpaquera.\"\"\"'\n",
    "        cleaned = clean_abstract(original)\n",
    "        print(f\"Original: {original}\")\n",
    "        print(f\"Cleaned: {cleaned}\")\n",
    "    else:\n",
    "        print(\"❌ Column 'abstract' not found in the file.\")\n",
    "    \n",
    "    # Save processed file\n",
    "    df.to_csv(output_path, index=False)\n",
    "    print(f\"✅ Processed file saved at: {output_path}\")\n",
    "\n",
    "# 👇 Use your own path here\n",
    "clean_abstract_column(\"data/dataset.csv\", \"data/dataset3.csv\")"
   ]
  }
 ],
 "metadata": {
  "kernelspec": {
   "display_name": "graphrag",
   "language": "python",
   "name": "python3"
  },
  "language_info": {
   "codemirror_mode": {
    "name": "ipython",
    "version": 3
   },
   "file_extension": ".py",
   "mimetype": "text/x-python",
   "name": "python",
   "nbconvert_exporter": "python",
   "pygments_lexer": "ipython3",
   "version": "3.9.21"
  }
 },
 "nbformat": 4,
 "nbformat_minor": 5
}
